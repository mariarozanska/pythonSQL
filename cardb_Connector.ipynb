{
 "cells": [
  {
   "cell_type": "markdown",
   "metadata": {},
   "source": [
    "[Dokumentacja mysql.connector](https://dev.mysql.com/doc/connector-python/en/connector-python-example-connecting.html)"
   ]
  },
  {
   "cell_type": "markdown",
   "metadata": {},
   "source": [
    "Funkcja connect() tworzy połączenie z MySQL server i zwraca obiekt MySQLConnection:\n",
    "```python\n",
    "cnx = mysql.connector.connect()\n",
    "```\n",
    "\n",
    "Metoda połączenia cursor() zwraca obiekt MySQLCursor, który umożliwia manipulowanie bazą:\n",
    "```python\n",
    "cursor = cnx.cursor()\n",
    "cursor.execute(sql_statement)\n",
    "```\n",
    "\n",
    "Po dodaniu (INSERT INTO), zaktualizowaniu (UPDATE) lub usunięciu (DELETE FROM) wierszy, zmiany należy jeszcze skomitować:\n",
    "```python\n",
    "cnx.commit()\n",
    "```\n",
    "\n",
    "Połączenie należy zakończyć:\n",
    "```python\n",
    "cursor.close()\n",
    "cnx.close()\n",
    "```"
   ]
  },
  {
   "cell_type": "code",
   "execution_count": 1,
   "metadata": {},
   "outputs": [],
   "source": [
    "import mysql.connector\n",
    "import random"
   ]
  },
  {
   "cell_type": "markdown",
   "metadata": {},
   "source": [
    "### Nawiązanie połączenia z bazą "
   ]
  },
  {
   "cell_type": "code",
   "execution_count": 2,
   "metadata": {},
   "outputs": [],
   "source": [
    "db_name = 'cardb'"
   ]
  },
  {
   "cell_type": "code",
   "execution_count": 3,
   "metadata": {},
   "outputs": [],
   "source": [
    "# słownik złożony z argumentów kluczowych funkcji connect()\n",
    "config = {\n",
    "  'user': 'root',\n",
    "  'password': 'admin',\n",
    "  'host': '127.0.0.1',\n",
    "#   'database': db_name,\n",
    "}"
   ]
  },
  {
   "cell_type": "code",
   "execution_count": 4,
   "metadata": {},
   "outputs": [],
   "source": [
    "# połączenie się z serwerem (lub konkretną bazą na tym serwerze, jeżeli przekazany jest też argument database)\n",
    "cnx = mysql.connector.connect(**config)\n",
    "cursor = cnx.cursor()"
   ]
  },
  {
   "cell_type": "code",
   "execution_count": 5,
   "metadata": {},
   "outputs": [],
   "source": [
    "# połączenie się z konkretną bazą\n",
    "# jeżeli baza nie istnieje, zostaje utworzona\n",
    "try:\n",
    "    cnx.database = db_name\n",
    "except mysql.connector.Error as err:\n",
    "  if err.errno == mysql.connector.errorcode.ER_ACCESS_DENIED_ERROR:\n",
    "    print('Something is wrong with your user name or password')\n",
    "  elif err.errno == mysql.connector.errorcode.ER_BAD_DB_ERROR:\n",
    "#     print('Database {} does not exist'.format(db_name))\n",
    "    cursor.execute('CREATE DATABASE {}'.format(db_name))\n",
    "    cnx.database = db_name\n",
    "  else:\n",
    "    print(err)"
   ]
  },
  {
   "cell_type": "markdown",
   "metadata": {},
   "source": [
    "### Utworzenie tabel"
   ]
  },
  {
   "cell_type": "code",
   "execution_count": 6,
   "metadata": {},
   "outputs": [],
   "source": [
    "table_dict = {}"
   ]
  },
  {
   "cell_type": "code",
   "execution_count": 7,
   "metadata": {},
   "outputs": [],
   "source": [
    "table_dict['Car'] = '''\n",
    "    CREATE TABLE `Car` (\n",
    "    `Id` INT NOT NULL,\n",
    "    `Model` VARCHAR(45) NOT NULL,\n",
    "    PRIMARY KEY (`Id`))\n",
    "    '''\n",
    "\n",
    "table_dict['Part'] = '''\n",
    "    CREATE TABLE `Part` (\n",
    "    `Id` INT NOT NULL,\n",
    "    `IsFunctional` TINYINT(1) NOT NULL,\n",
    "    `CarId` INT,\n",
    "    PRIMARY KEY (`Id`),\n",
    "    FOREIGN KEY (`CarId`) REFERENCES `Car`(`Id`))\n",
    "    '''\n",
    "\n",
    "table_dict['Wheel'] = '''\n",
    "    CREATE TABLE `Wheel` (\n",
    "    `PartId` INT NOT NULL,\n",
    "    `Model` VARCHAR(45) NOT NULL,\n",
    "    PRIMARY KEY (`PartId`),\n",
    "    FOREIGN KEY (`PartId`) REFERENCES `Part`(`Id`))\n",
    "    '''\n",
    "\n",
    "table_dict['Engine'] = '''\n",
    "    CREATE TABLE `Engine` (\n",
    "    `PartId` INT NOT NULL,\n",
    "    `Model` VARCHAR(45) NOT NULL,\n",
    "    PRIMARY KEY (`PartId`),\n",
    "    FOREIGN KEY (`PartId`) REFERENCES `Part`(`Id`))\n",
    "    '''"
   ]
  },
  {
   "cell_type": "code",
   "execution_count": 8,
   "metadata": {},
   "outputs": [],
   "source": [
    "# utworzenie tabel\n",
    "# jeżeli już istnieją, pojawi się komunikat\n",
    "for table_name, create_table_sql_statement in table_dict.items():\n",
    "    try:\n",
    "        cursor.execute(create_table_sql_statement)\n",
    "    except mysql.connector.Error as err:\n",
    "      if err.errno == mysql.connector.errorcode.ER_TABLE_EXISTS_ERROR:\n",
    "        print('Table {} already exists'.format(table_name))\n",
    "      else:\n",
    "        print(err)"
   ]
  },
  {
   "cell_type": "markdown",
   "metadata": {},
   "source": [
    "### Dodanie wierszy"
   ]
  },
  {
   "cell_type": "code",
   "execution_count": 9,
   "metadata": {},
   "outputs": [],
   "source": [
    "add_car_sql_statement = '''\n",
    "    INSERT INTO Car (Id, Model)\n",
    "    VALUES (%s, %s)\n",
    "    '''\n",
    "\n",
    "add_part_sql_statement = '''\n",
    "    INSERT INTO Part (Id, IsFunctional, CarId)\n",
    "    VALUES (%s, %s, %s)\n",
    "    '''\n",
    "\n",
    "add_wheel_sql_statement = '''\n",
    "    INSERT INTO Wheel (PartId, Model)\n",
    "    VALUES (%s, %s)\n",
    "    '''\n",
    "\n",
    "add_engine_sql_statement = '''\n",
    "    INSERT INTO Engine (PartId, Model)\n",
    "    VALUES (%s, %s)\n",
    "    '''"
   ]
  },
  {
   "cell_type": "code",
   "execution_count": 10,
   "metadata": {},
   "outputs": [],
   "source": [
    "car_total = 20\n",
    "car_id_list = list(range(car_total))\n",
    "car_model_list = ['Renault', 'Audi', 'BMW', 'Mazda', 'Fiat']\n",
    "car_list = [(car_id, random.choice(car_model_list)) for car_id in car_id_list]\n",
    "\n",
    "part_total = 100\n",
    "part_id_list = list(range(part_total))\n",
    "part_list = [(part_id, random.randint(0, 1), random.choice(car_id_list)) for part_id in part_id_list]\n",
    "\n",
    "wheel_total = int(part_total * 0.7)\n",
    "wheel_model_list = ['W1', 'W2', 'W3', 'W4', 'W5']\n",
    "wheel_part_id_list = random.sample(part_id_list, wheel_total)\n",
    "wheel_list = [(part_id, random.choice(wheel_model_list)) for part_id in wheel_part_id_list]\n",
    "\n",
    "engine_total = part_total - wheel_total\n",
    "engine_model_list = ['A157', 'B458', 'A86', 'A123', 'C18']\n",
    "engine_part_id_list = list(set(part_id_list) - set(wheel_part_id_list))\n",
    "engine_list = [(part_id, random.choice(engine_model_list)) for part_id in engine_part_id_list]"
   ]
  },
  {
   "cell_type": "code",
   "execution_count": 11,
   "metadata": {},
   "outputs": [],
   "source": [
    "for car in car_list:\n",
    "    cursor.execute(add_car_sql_statement, car)"
   ]
  },
  {
   "cell_type": "code",
   "execution_count": 12,
   "metadata": {},
   "outputs": [],
   "source": [
    "for part in part_list:\n",
    "    cursor.execute(add_part_sql_statement, part)"
   ]
  },
  {
   "cell_type": "code",
   "execution_count": 13,
   "metadata": {},
   "outputs": [],
   "source": [
    "for wheel in wheel_list:\n",
    "    cursor.execute(add_wheel_sql_statement, wheel)"
   ]
  },
  {
   "cell_type": "code",
   "execution_count": 14,
   "metadata": {},
   "outputs": [],
   "source": [
    "for engine in engine_list:\n",
    "    cursor.execute(add_engine_sql_statement, engine)"
   ]
  },
  {
   "cell_type": "code",
   "execution_count": 15,
   "metadata": {},
   "outputs": [],
   "source": [
    "cnx.commit()"
   ]
  },
  {
   "cell_type": "markdown",
   "metadata": {},
   "source": [
    "### Zaktualizowanie wierszy"
   ]
  },
  {
   "cell_type": "code",
   "execution_count": 16,
   "metadata": {},
   "outputs": [],
   "source": [
    "set_free_part_sql_statement = '''\n",
    "    UPDATE Part\n",
    "    SET CarId = NULL\n",
    "    WHERE Id IN {}\n",
    "    '''\n",
    "\n",
    "set_broken_part_sql_statement = '''\n",
    "    UPDATE Part\n",
    "    SET IsFunctional = 0\n",
    "    WHERE Id = %s\n",
    "    '''\n",
    "\n",
    "set_fixed_part_sql_statement = '''\n",
    "    UPDATE Part\n",
    "    SET IsFunctional = 1\n",
    "    WHERE Id = %s\n",
    "    '''"
   ]
  },
  {
   "cell_type": "code",
   "execution_count": 17,
   "metadata": {},
   "outputs": [],
   "source": [
    "free_part_id_list = random.sample(part_id_list, 15)\n",
    "set_free_part_sql_statement = set_free_part_sql_statement.format(str(tuple(['%s' for i in range(len(free_part_id_list))])))"
   ]
  },
  {
   "cell_type": "code",
   "execution_count": 18,
   "metadata": {},
   "outputs": [],
   "source": [
    "cursor.execute(set_free_part_sql_statement, free_part_id_list)"
   ]
  },
  {
   "cell_type": "code",
   "execution_count": 19,
   "metadata": {},
   "outputs": [],
   "source": [
    "cnx.commit()"
   ]
  },
  {
   "cell_type": "markdown",
   "metadata": {},
   "source": [
    "### Zapytania"
   ]
  },
  {
   "cell_type": "code",
   "execution_count": 20,
   "metadata": {},
   "outputs": [],
   "source": [
    "# samochód jest sprawny, jeżeli wszystkie jego części są sprawne\n",
    "get_functional_car_query = '''\n",
    "    SELECT Car.Id, Model\n",
    "    FROM Car INNER JOIN Part ON Car.Id = Part.CarId\n",
    "    GROUP BY Car.Id\n",
    "    HAVING COUNT(IsFunctional) = SUM(IsFunctional)\n",
    "    '''"
   ]
  },
  {
   "cell_type": "code",
   "execution_count": 21,
   "metadata": {},
   "outputs": [
    {
     "name": "stdout",
     "output_type": "stream",
     "text": [
      "(10, 'Fiat')\n",
      "(13, 'Audi')\n",
      "(18, 'Audi')\n"
     ]
    }
   ],
   "source": [
    "cursor.execute(get_functional_car_query)\n",
    "for row in cursor:\n",
    "    print(row)"
   ]
  },
  {
   "cell_type": "code",
   "execution_count": 22,
   "metadata": {},
   "outputs": [],
   "source": [
    "get_free_part_query = '''\n",
    "    SELECT Part.Id AS Id, Model, 'Wheel' AS Type\n",
    "    FROM Part INNER JOIN Wheel ON Part.Id = Wheel.PartId\n",
    "    WHERE CarId IS NULL\n",
    "    UNION\n",
    "    SELECT Part.Id AS Id, Model, 'Engine' AS Type\n",
    "    FROM Part INNER JOIN Engine ON Part.Id = Engine.PartId\n",
    "    WHERE CarId IS NULL\n",
    "    ORDER BY Id\n",
    "    '''"
   ]
  },
  {
   "cell_type": "code",
   "execution_count": 23,
   "metadata": {},
   "outputs": [
    {
     "name": "stdout",
     "output_type": "stream",
     "text": [
      "(1, 'W2', 'Wheel')\n",
      "(5, 'B458', 'Engine')\n",
      "(12, 'C18', 'Engine')\n",
      "(21, 'W2', 'Wheel')\n",
      "(34, 'W3', 'Wheel')\n",
      "(35, 'A157', 'Engine')\n",
      "(36, 'W1', 'Wheel')\n",
      "(47, 'W1', 'Wheel')\n",
      "(54, 'W5', 'Wheel')\n",
      "(60, 'W1', 'Wheel')\n",
      "(61, 'B458', 'Engine')\n",
      "(73, 'B458', 'Engine')\n",
      "(90, 'W5', 'Wheel')\n",
      "(92, 'W5', 'Wheel')\n",
      "(98, 'A123', 'Engine')\n"
     ]
    }
   ],
   "source": [
    "cursor.execute(get_free_part_query)\n",
    "for row in cursor:\n",
    "    print(row)"
   ]
  },
  {
   "cell_type": "markdown",
   "metadata": {},
   "source": [
    "### Zakończenie połączenia"
   ]
  },
  {
   "cell_type": "code",
   "execution_count": 24,
   "metadata": {},
   "outputs": [],
   "source": [
    "cursor.close()\n",
    "cnx.close()"
   ]
  },
  {
   "cell_type": "code",
   "execution_count": null,
   "metadata": {},
   "outputs": [],
   "source": []
  }
 ],
 "metadata": {
  "kernelspec": {
   "display_name": "Python [default]",
   "language": "python",
   "name": "python3"
  },
  "language_info": {
   "codemirror_mode": {
    "name": "ipython",
    "version": 3
   },
   "file_extension": ".py",
   "mimetype": "text/x-python",
   "name": "python",
   "nbconvert_exporter": "python",
   "pygments_lexer": "ipython3",
   "version": "3.6.4"
  }
 },
 "nbformat": 4,
 "nbformat_minor": 2
}
