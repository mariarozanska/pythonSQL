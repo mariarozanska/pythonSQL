{
 "cells": [
  {
   "cell_type": "markdown",
   "metadata": {},
   "source": [
    "[Dokumentacja mysql.connector](https://dev.mysql.com/doc/connector-python/en/connector-python-example-connecting.html)"
   ]
  },
  {
   "cell_type": "markdown",
   "metadata": {},
   "source": [
    "Funkcja connect() tworzy połączenie z MySQL server i zwraca obiekt MySQLConnection:\n",
    "```python\n",
    "cnx = mysql.connector.connect(**config_dict)\n",
    "```\n",
    "\n",
    "Metoda połączenia cursor() zwraca obiekt MySQLCursor, który umożliwia manipulowanie bazą:\n",
    "```python\n",
    "cursor = cnx.cursor()\n",
    "\n",
    "cursor.execute('sql_statement'[, data])\n",
    "cursor.executemany('sql_statement', seq_of_data)\n",
    "# w wyniku zapytania cursor może zostać użyty jako iterator lub można pobrać wyszukane wiersze\n",
    "row_list = cursor.fetchall()\n",
    "\n",
    "iterator = cursor.execute('many_sql_statement', multi=True)\n",
    "```\n",
    "\n",
    "Po dodaniu (INSERT INTO), zaktualizowaniu (UPDATE) lub usunięciu (DELETE FROM) rekordów, zmiany należy jeszcze skomitować:\n",
    "```\n",
    "cnx.commit()\n",
    "```\n",
    "\n",
    "Połączenie należy zakończyć:\n",
    "```\n",
    "cursor.close()\n",
    "cnx.close()\n",
    "```"
   ]
  },
  {
   "cell_type": "code",
   "execution_count": 1,
   "metadata": {},
   "outputs": [],
   "source": [
    "import mysql.connector\n",
    "import random"
   ]
  },
  {
   "cell_type": "markdown",
   "metadata": {},
   "source": [
    "### Nawiązanie połączenia z bazą danych\n",
    "\n",
    "Utworzenie bazy danych:\n",
    "```mysql\n",
    "CREATE DATABASE database_name;\n",
    "```"
   ]
  },
  {
   "cell_type": "code",
   "execution_count": 2,
   "metadata": {},
   "outputs": [],
   "source": [
    "db_name = 'cardb'"
   ]
  },
  {
   "cell_type": "code",
   "execution_count": 3,
   "metadata": {},
   "outputs": [],
   "source": [
    "# słownik złożony z argumentów kluczowych funkcji connect()\n",
    "config = {\n",
    "  'user': 'root',\n",
    "  'password': 'admin',\n",
    "  'host': '127.0.0.1',\n",
    "#   'database': db_name,\n",
    "}"
   ]
  },
  {
   "cell_type": "code",
   "execution_count": 4,
   "metadata": {},
   "outputs": [],
   "source": [
    "# połączenie się z serwerem (lub konkretną bazą na tym serwerze, jeżeli przekazany jest też argument database)\n",
    "cnx = mysql.connector.connect(**config)\n",
    "cursor = cnx.cursor()"
   ]
  },
  {
   "cell_type": "code",
   "execution_count": 5,
   "metadata": {},
   "outputs": [],
   "source": [
    "# połączenie się z konkretną bazą\n",
    "# jeżeli baza nie istnieje, zostaje utworzona\n",
    "try:\n",
    "    cnx.database = db_name\n",
    "except mysql.connector.Error as err:\n",
    "  if err.errno == mysql.connector.errorcode.ER_ACCESS_DENIED_ERROR:\n",
    "    print('Something is wrong with your user name or password')\n",
    "  elif err.errno == mysql.connector.errorcode.ER_BAD_DB_ERROR:\n",
    "#     print('Database {} does not exist'.format(db_name))\n",
    "    cursor.execute('CREATE DATABASE {}'.format(db_name))\n",
    "    cnx.database = db_name\n",
    "  else:\n",
    "    print(err)"
   ]
  },
  {
   "cell_type": "markdown",
   "metadata": {},
   "source": [
    "### Utworzenie tabel\n",
    "\n",
    "Utworzenie nowej tabeli:\n",
    "```mysql\n",
    "CREATE TABLE table_name (\n",
    "    column1 datatype constraint,\n",
    "    column2 datatype constraint,\n",
    "    column3 datatype constraint,\n",
    "    ...\n",
    "    PRIMARY KEY (column_name)\n",
    "    /*CONSTRAINT contraint_name PRIMARY KEY (column_name(s))*/\n",
    "    FOREIGN KEY (column_name) REFERENCES table2_name(column_name) \n",
    "    /*CONSTRAINT contraint_name FOREIGN KEY (column_name(s)) REFERENCES table2_name(column_name)*/\n",
    ");\n",
    "```\n",
    "\n",
    "Utworzenie nowej tabeli na podstawie już istniejących:\n",
    "```mysql\n",
    "CREATE TABLE table_name AS\n",
    "zapytanie;\n",
    "```"
   ]
  },
  {
   "cell_type": "code",
   "execution_count": 6,
   "metadata": {},
   "outputs": [],
   "source": [
    "table_dict = {}"
   ]
  },
  {
   "cell_type": "code",
   "execution_count": 7,
   "metadata": {},
   "outputs": [],
   "source": [
    "table_dict['Car'] = '''\n",
    "    CREATE TABLE `Car` (\n",
    "    `Id` INT NOT NULL,\n",
    "    `CarModel` VARCHAR(45) NOT NULL,\n",
    "    PRIMARY KEY (`Id`))\n",
    "    '''\n",
    "\n",
    "table_dict['Part'] = '''\n",
    "    CREATE TABLE `Part` (\n",
    "    `Id` INT NOT NULL,\n",
    "    `IsFunctional` TINYINT(1) NOT NULL,\n",
    "    `CarId` INT,\n",
    "    PRIMARY KEY (`Id`),\n",
    "    FOREIGN KEY (`CarId`) REFERENCES `Car`(`Id`))\n",
    "    '''\n",
    "\n",
    "table_dict['Wheel'] = '''\n",
    "    CREATE TABLE `Wheel` (\n",
    "    `PartId` INT NOT NULL,\n",
    "    `WheelModel` VARCHAR(45) NOT NULL,\n",
    "    PRIMARY KEY (`PartId`),\n",
    "    FOREIGN KEY (`PartId`) REFERENCES `Part`(`Id`))\n",
    "    '''\n",
    "\n",
    "table_dict['Engine'] = '''\n",
    "    CREATE TABLE `Engine` (\n",
    "    `PartId` INT NOT NULL,\n",
    "    `EngineModel` VARCHAR(45) NOT NULL,\n",
    "    PRIMARY KEY (`PartId`),\n",
    "    FOREIGN KEY (`PartId`) REFERENCES `Part`(`Id`))\n",
    "    '''"
   ]
  },
  {
   "cell_type": "code",
   "execution_count": 8,
   "metadata": {},
   "outputs": [],
   "source": [
    "# utworzenie tabel\n",
    "# jeżeli już istnieją, pojawi się komunikat\n",
    "for table_name, create_table_stmt in table_dict.items():\n",
    "    try:\n",
    "        cursor.execute(create_table_stmt)\n",
    "    except mysql.connector.Error as err:\n",
    "      if err.errno == mysql.connector.errorcode.ER_TABLE_EXISTS_ERROR:\n",
    "        print('Table {} already exists'.format(table_name))\n",
    "      else:\n",
    "        print(err)"
   ]
  },
  {
   "cell_type": "markdown",
   "metadata": {},
   "source": [
    "### Dodanie wierszy\n",
    "\n",
    "Wstawienie nowych rekordów do tabeli:\n",
    "```mysql\n",
    "INSERT INTO table_name (column1, column2, column3, ...)\n",
    "VALUES (value1, value2, value3, ...), (value1, value2, value3, ...), ...;\n",
    "```"
   ]
  },
  {
   "cell_type": "code",
   "execution_count": 9,
   "metadata": {},
   "outputs": [],
   "source": [
    "add_car_stmt = '''\n",
    "    INSERT INTO Car (Id, CarModel)\n",
    "    VALUES (%s, %s)\n",
    "    '''\n",
    "\n",
    "add_part_stmt = '''\n",
    "    INSERT INTO Part (Id, IsFunctional, CarId)\n",
    "    VALUES (%s, %s, %s)\n",
    "    '''\n",
    "\n",
    "add_wheel_stmt = '''\n",
    "    INSERT INTO Wheel (PartId, WheelModel)\n",
    "    VALUES (%s, %s)\n",
    "    '''\n",
    "\n",
    "add_engine_stmt = '''\n",
    "    INSERT INTO Engine (PartId, EngineModel)\n",
    "    VALUES (%s, %s)\n",
    "    '''"
   ]
  },
  {
   "cell_type": "code",
   "execution_count": 10,
   "metadata": {},
   "outputs": [],
   "source": [
    "cursor.execute('SELECT c.Id FROM Car AS c')\n",
    "try:\n",
    "    last_car_id = cursor.fetchall()[-1][0]\n",
    "except IndexError:\n",
    "    last_car_id = 0\n",
    "\n",
    "car_total = 20\n",
    "car_id_list = list(range(last_car_id + 1, last_car_id + 1 + car_total))\n",
    "car_model_list = ['Renault', 'Audi', 'BMW', 'Mazda', 'Fiat']\n",
    "car_list = [(car_id, random.choice(car_model_list)) for car_id in car_id_list]\n",
    "\n",
    "cursor.execute('SELECT p.Id FROM Part AS p')\n",
    "try:\n",
    "    last_part_id = cursor.fetchall()[-1][0]\n",
    "except IndexError:\n",
    "    last_part_id = 0\n",
    "\n",
    "part_total = 100\n",
    "part_id_list = list(range(last_part_id + 1, last_part_id + 1 + part_total))\n",
    "part_list = [(part_id, random.randint(0, 1), random.choice(car_id_list)) for part_id in part_id_list]\n",
    "\n",
    "wheel_total = int(part_total * 0.7)\n",
    "wheel_model_list = ['W1', 'W2', 'W3', 'W4', 'W5']\n",
    "wheel_part_id_list = random.sample(part_id_list, wheel_total)\n",
    "wheel_list = [(part_id, random.choice(wheel_model_list)) for part_id in wheel_part_id_list]\n",
    "\n",
    "engine_total = part_total - wheel_total\n",
    "engine_model_list = ['A157', 'B458', 'A86', 'A123', 'C18']\n",
    "engine_part_id_list = list(set(part_id_list) - set(wheel_part_id_list))\n",
    "engine_list = [(part_id, random.choice(engine_model_list)) for part_id in engine_part_id_list]"
   ]
  },
  {
   "cell_type": "code",
   "execution_count": 11,
   "metadata": {},
   "outputs": [],
   "source": [
    "cursor.executemany(add_car_stmt, car_list)"
   ]
  },
  {
   "cell_type": "code",
   "execution_count": 12,
   "metadata": {},
   "outputs": [],
   "source": [
    "cursor.executemany(add_part_stmt, part_list)"
   ]
  },
  {
   "cell_type": "code",
   "execution_count": 13,
   "metadata": {},
   "outputs": [],
   "source": [
    "cursor.executemany(add_wheel_stmt, wheel_list)"
   ]
  },
  {
   "cell_type": "code",
   "execution_count": 14,
   "metadata": {},
   "outputs": [],
   "source": [
    "cursor.executemany(add_engine_stmt, engine_list)"
   ]
  },
  {
   "cell_type": "code",
   "execution_count": 15,
   "metadata": {},
   "outputs": [],
   "source": [
    "cnx.commit()"
   ]
  },
  {
   "cell_type": "markdown",
   "metadata": {},
   "source": [
    "### Zaktualizowanie wierszy\n",
    "Zmodyfikowanie istniejących rekordów w tabeli:\n",
    "```mysql\n",
    "UPDATE table_name\n",
    "SET column1 = value1, column2 = value2, ...\n",
    "WHERE condition;\n",
    "```"
   ]
  },
  {
   "cell_type": "code",
   "execution_count": 16,
   "metadata": {},
   "outputs": [],
   "source": [
    "set_free_part_stmt = '''\n",
    "    UPDATE Part AS p\n",
    "    SET p.CarId = NULL\n",
    "    WHERE p.Id IN {}\n",
    "    '''\n",
    "\n",
    "set_broken_part_stmt = '''\n",
    "    UPDATE Part AS p\n",
    "    SET p.IsFunctional = 0\n",
    "    WHERE p.Id = %s\n",
    "    '''\n",
    "\n",
    "set_fixed_part_stmt = '''\n",
    "    UPDATE Part AS p\n",
    "    SET p.IsFunctional = 1\n",
    "    WHERE p.Id = %s\n",
    "    '''"
   ]
  },
  {
   "cell_type": "code",
   "execution_count": 17,
   "metadata": {},
   "outputs": [],
   "source": [
    "free_part_total = 15\n",
    "free_part_id_list = random.sample(part_id_list, free_part_total)\n",
    "set_free_part_full_stmt = set_free_part_stmt.format(str(('%s',) * free_part_total))"
   ]
  },
  {
   "cell_type": "code",
   "execution_count": 18,
   "metadata": {},
   "outputs": [],
   "source": [
    "cursor.execute(set_free_part_full_stmt, free_part_id_list)"
   ]
  },
  {
   "cell_type": "code",
   "execution_count": 19,
   "metadata": {},
   "outputs": [],
   "source": [
    "fixed_part_id_list = [(part_id,) for part_id in random.sample(part_id_list, 10)]"
   ]
  },
  {
   "cell_type": "code",
   "execution_count": 20,
   "metadata": {},
   "outputs": [],
   "source": [
    "cursor.executemany(set_fixed_part_stmt, fixed_part_id_list)"
   ]
  },
  {
   "cell_type": "code",
   "execution_count": 21,
   "metadata": {},
   "outputs": [],
   "source": [
    "cnx.commit()"
   ]
  },
  {
   "cell_type": "markdown",
   "metadata": {},
   "source": [
    "### Utworzenie widoku\n",
    "\n",
    "Widok jest wirtualną tabelą opartą na wyniku zapytania. Można z niego korzystać tak, jak z rzeczywistych tabel:\n",
    "```mysql\n",
    "CREATE VIEW view_name AS\n",
    "zapytanie;\n",
    "```"
   ]
  },
  {
   "cell_type": "code",
   "execution_count": 22,
   "metadata": {},
   "outputs": [],
   "source": [
    "# stwórz widok sprawnych samochodów\n",
    "# samochód jest sprawny, jeżeli wszystkie jego części są sprawne\n",
    "create_view_functional_car_stmt = '''\n",
    "    CREATE VIEW FunctionalCar AS\n",
    "    SELECT c.Id, c.CarModel FROM Car AS c\n",
    "    WHERE c.Id IN (SELECT p.CarId FROM Part AS p\n",
    "                   GROUP BY p.CarId\n",
    "                   HAVING COUNT(p.IsFunctional) = SUM(p.IsFunctional))\n",
    "    '''\n",
    "# inny sposób:\n",
    "#     SELECT c.Id, c.CarModel\n",
    "#     FROM Car AS c INNER JOIN Part AS p ON c.Id = p.CarId\n",
    "#     GROUP BY c.Id\n",
    "#     HAVING COUNT(p.IsFunctional) = SUM(p.IsFunctional)"
   ]
  },
  {
   "cell_type": "code",
   "execution_count": 23,
   "metadata": {},
   "outputs": [],
   "source": [
    "try:\n",
    "    cursor.execute(create_view_functional_car_stmt)\n",
    "except mysql.connector.Error as err:\n",
    "  if err.errno == mysql.connector.errorcode.ER_TABLE_EXISTS_ERROR:\n",
    "    print('View already exists')\n",
    "  else:\n",
    "    print(err)"
   ]
  },
  {
   "cell_type": "markdown",
   "metadata": {},
   "source": [
    "### Zapytania\n",
    "\n",
    "Schemat zapytania:\n",
    "```mysql\n",
    "SELECT column_name(s)\n",
    "FROM table_name\n",
    "WHERE condition \n",
    "GROUP BY column_name(s)\n",
    "HAVING condition\n",
    "ORDER BY column_name(s)\n",
    "LIMIT no_of_rows;\n",
    "```\n",
    "\n",
    "Połączenie tabel względem pasujących do siebie wierszy:\n",
    "```mysql\n",
    "SELECT column_name(s)\n",
    "FROM table1\n",
    "INNER JOIN table2 /*INNER/FULL OUTER/LEFT/RIGHT JOIN*/\n",
    "ON table1.column_name = table2.column_name;\n",
    "```\n",
    "\n",
    "Połączenie dwóch wyników zapytań - muszą być te same kolumny:\n",
    "```mysql\n",
    "SELECT column_name(s) FROM table1\n",
    "UNION /*UNION ALL pozwala na duplikaty*/\n",
    "SELECT column_name(s) FROM table2;\n",
    "```"
   ]
  },
  {
   "cell_type": "code",
   "execution_count": 24,
   "metadata": {},
   "outputs": [],
   "source": [
    "def print_res_of_query(cursor):\n",
    "    frame_str = '{:<12} ' * len(cursor.column_names)\n",
    "    print(frame_str.format(*cursor.column_names))\n",
    "    for row in cursor:\n",
    "        print(frame_str.format(*row))    "
   ]
  },
  {
   "cell_type": "markdown",
   "metadata": {},
   "source": [
    "* #### Znajdź sprawne samochody\n",
    "Samochód jest sprawny, jeżeli wszystkie jego części są sprawne"
   ]
  },
  {
   "cell_type": "code",
   "execution_count": 25,
   "metadata": {},
   "outputs": [],
   "source": [
    "get_functional_car_query = '''\n",
    "    SELECT fc.Id AS CarId, fc.CarModel FROM FunctionalCar AS fc\n",
    "    '''"
   ]
  },
  {
   "cell_type": "code",
   "execution_count": 26,
   "metadata": {},
   "outputs": [
    {
     "name": "stdout",
     "output_type": "stream",
     "text": [
      "CarId        CarModel     \n",
      "5            Mazda        \n",
      "14           Renault      \n",
      "17           Mazda        \n",
      "19           Audi         \n"
     ]
    }
   ],
   "source": [
    "cursor.execute(get_functional_car_query)\n",
    "print_res_of_query(cursor)"
   ]
  },
  {
   "cell_type": "markdown",
   "metadata": {},
   "source": [
    "* #### Znajdź liczbę sprawnych i niesprawnych samochodów danej marki"
   ]
  },
  {
   "cell_type": "code",
   "execution_count": 27,
   "metadata": {},
   "outputs": [],
   "source": [
    "get_funct_and_nonfunct_model_car_query = '''\n",
    "    SELECT c.CarModel, COUNT(fc.Id) AS FunctCar, COUNT(c.Id) - COUNT(fc.Id) AS NonfunctCar\n",
    "    FROM Car AS c \n",
    "    LEFT JOIN FunctionalCar AS fc \n",
    "    ON fc.Id = c.Id\n",
    "    GROUP BY c.CarModel\n",
    "    '''"
   ]
  },
  {
   "cell_type": "code",
   "execution_count": 28,
   "metadata": {},
   "outputs": [
    {
     "name": "stdout",
     "output_type": "stream",
     "text": [
      "CarModel     FunctCar     NonfunctCar  \n",
      "Audi         1            3            \n",
      "BMW          0            3            \n",
      "Fiat         0            4            \n",
      "Mazda        2            5            \n",
      "Renault      1            1            \n"
     ]
    }
   ],
   "source": [
    "cursor.execute(get_funct_and_nonfunct_model_car_query)\n",
    "print_res_of_query(cursor)"
   ]
  },
  {
   "cell_type": "markdown",
   "metadata": {},
   "source": [
    "* #### Znajdź liczbę sprawnych i niesprawnych części dla konkretnych samochodów\n",
    "Zapisz je na dwa sposoby - w dwóch oddzielnych kolumnach i wierszach"
   ]
  },
  {
   "cell_type": "code",
   "execution_count": 29,
   "metadata": {},
   "outputs": [],
   "source": [
    "# oddzielne kolumny\n",
    "get_car_funct_and_nonfunct_part_query = '''\n",
    "    SELECT c.Id AS CarId, c.CarModel, SUM(p.IsFunctional) AS FunctPart, COUNT(p.IsFunctional) - SUM(p.IsFunctional) AS NonfunctPart\n",
    "    FROM Car AS c\n",
    "    INNER JOIN Part AS p\n",
    "    ON c.Id = p.CarId\n",
    "    GROUP BY c.Id\n",
    "    LIMIT 10\n",
    "    '''"
   ]
  },
  {
   "cell_type": "code",
   "execution_count": 30,
   "metadata": {},
   "outputs": [
    {
     "name": "stdout",
     "output_type": "stream",
     "text": [
      "CarId        CarModel     FunctPart    NonfunctPart \n",
      "1            Fiat         2            2            \n",
      "2            Audi         1            1            \n",
      "3            Audi         3            2            \n",
      "4            Mazda        1            3            \n",
      "5            Mazda        3            0            \n",
      "6            Mazda        4            5            \n",
      "7            Fiat         1            2            \n",
      "8            Mazda        1            2            \n",
      "9            Mazda        3            4            \n",
      "10           Fiat         0            3            \n"
     ]
    }
   ],
   "source": [
    "cursor.execute(get_car_funct_and_nonfunct_part_query)\n",
    "print_res_of_query(cursor)"
   ]
  },
  {
   "cell_type": "code",
   "execution_count": 31,
   "metadata": {},
   "outputs": [],
   "source": [
    "# oddzielne wiersze\n",
    "get_car_funct_and_nonfunct_part_query = '''\n",
    "    SELECT c.Id AS CarId, c.CarModel, p.IsFunctional, COUNT(p.IsFunctional) AS NoOfPart\n",
    "    FROM Car AS c\n",
    "    INNER JOIN Part AS p\n",
    "    ON c.Id = p.CarId\n",
    "    GROUP BY c.Id, p.IsFunctional\n",
    "    LIMIT 10\n",
    "    '''"
   ]
  },
  {
   "cell_type": "code",
   "execution_count": 32,
   "metadata": {},
   "outputs": [
    {
     "name": "stdout",
     "output_type": "stream",
     "text": [
      "CarId        CarModel     IsFunctional NoOfPart     \n",
      "1            Fiat         0            2            \n",
      "1            Fiat         1            2            \n",
      "2            Audi         0            1            \n",
      "2            Audi         1            1            \n",
      "3            Audi         0            2            \n",
      "3            Audi         1            3            \n",
      "4            Mazda        0            3            \n",
      "4            Mazda        1            1            \n",
      "5            Mazda        1            3            \n",
      "6            Mazda        0            5            \n"
     ]
    }
   ],
   "source": [
    "cursor.execute(get_car_funct_and_nonfunct_part_query)\n",
    "print_res_of_query(cursor)"
   ]
  },
  {
   "cell_type": "markdown",
   "metadata": {},
   "source": [
    "* #### Znajdź wszystkie luźne części\n",
    "Luźne części to te, które nie są związane z żadnym samochodem"
   ]
  },
  {
   "cell_type": "code",
   "execution_count": 33,
   "metadata": {},
   "outputs": [],
   "source": [
    "get_free_part_query = '''\n",
    "    SELECT p.Id AS PartId, 'Wheel' AS PartType, w.WheelModel AS PartModel, p.IsFunctional\n",
    "    FROM Part AS p\n",
    "    INNER JOIN Wheel AS w\n",
    "    ON p.Id = w.PartId\n",
    "    WHERE p.CarId IS NULL\n",
    "    \n",
    "    UNION\n",
    "    \n",
    "    SELECT p.Id AS PartId, 'Engine' AS PartType, e.EngineModel AS PartModel, p.IsFunctional\n",
    "    FROM Part AS p\n",
    "    INNER JOIN Engine AS e\n",
    "    ON p.Id = e.PartId\n",
    "    WHERE p.CarId IS NULL\n",
    "    ORDER BY PartId\n",
    "    LIMIT 10\n",
    "    '''"
   ]
  },
  {
   "cell_type": "code",
   "execution_count": 34,
   "metadata": {},
   "outputs": [
    {
     "name": "stdout",
     "output_type": "stream",
     "text": [
      "PartId       PartType     PartModel    IsFunctional \n",
      "10           Wheel        W2           1            \n",
      "15           Wheel        W4           0            \n",
      "16           Engine       C18          1            \n",
      "18           Wheel        W1           0            \n",
      "30           Wheel        W1           1            \n",
      "39           Wheel        W4           0            \n",
      "40           Engine       A157         1            \n",
      "51           Engine       A86          1            \n",
      "52           Wheel        W1           1            \n",
      "63           Wheel        W5           1            \n"
     ]
    }
   ],
   "source": [
    "cursor.execute(get_free_part_query)\n",
    "print_res_of_query(cursor)"
   ]
  },
  {
   "cell_type": "markdown",
   "metadata": {},
   "source": [
    "* #### Znajdź samochody bez części"
   ]
  },
  {
   "cell_type": "code",
   "execution_count": 35,
   "metadata": {},
   "outputs": [],
   "source": [
    "get_car_no_part_query = '''\n",
    "    SELECT c.Id, c.CarModel FROM Car AS c\n",
    "    WHERE c.Id NOT IN (SELECT DISTINCT p.CarId FROM Part AS p \n",
    "                       WHERE p.CarId IS NOT NULL)\n",
    "    LIMIT 10\n",
    "    '''"
   ]
  },
  {
   "cell_type": "code",
   "execution_count": 36,
   "metadata": {},
   "outputs": [
    {
     "name": "stdout",
     "output_type": "stream",
     "text": [
      "Id           CarModel     \n"
     ]
    }
   ],
   "source": [
    "cursor.execute(get_car_no_part_query)\n",
    "print_res_of_query(cursor)"
   ]
  },
  {
   "cell_type": "markdown",
   "metadata": {},
   "source": [
    "* #### Znajdź wszystkie części związane z samochodami"
   ]
  },
  {
   "cell_type": "code",
   "execution_count": 37,
   "metadata": {},
   "outputs": [],
   "source": [
    "get_car_part_query = '''\n",
    "    SELECT FullPart.CarId, c.CarModel, FullPart.PartType, FullPart.PartModel, FullPart.IsFunctional\n",
    "    FROM Car AS c\n",
    "    INNER JOIN (\n",
    "        SELECT w.WheelModel AS PartModel, 'Wheel' AS PartType, p.IsFunctional, p.CarId\n",
    "        FROM Part AS p INNER JOIN Wheel AS w ON p.Id = w.PartId\n",
    "        UNION\n",
    "        SELECT e.EngineModel AS PartModel, 'Engine' AS PartType, p.IsFunctional, p.CarId\n",
    "        FROM Part AS p INNER JOIN Engine AS e ON p.Id = e.PartId) \n",
    "        AS FullPart \n",
    "    ON FullPart.CarId = c.Id\n",
    "    ORDER BY FullPart.CarId\n",
    "    LIMIT 20\n",
    "    '''"
   ]
  },
  {
   "cell_type": "code",
   "execution_count": 38,
   "metadata": {},
   "outputs": [
    {
     "name": "stdout",
     "output_type": "stream",
     "text": [
      "CarId        CarModel     PartType     PartModel    IsFunctional \n",
      "1            Fiat         Engine       C18          1            \n",
      "1            Fiat         Wheel        W2           0            \n",
      "1            Fiat         Wheel        W5           1            \n",
      "1            Fiat         Engine       B458         0            \n",
      "2            Audi         Wheel        W2           0            \n",
      "2            Audi         Wheel        W1           1            \n",
      "3            Audi         Wheel        W5           0            \n",
      "3            Audi         Engine       B458         0            \n",
      "3            Audi         Wheel        W2           1            \n",
      "3            Audi         Wheel        W3           1            \n",
      "3            Audi         Engine       A157         1            \n",
      "4            Mazda        Engine       A86          0            \n",
      "4            Mazda        Engine       A123         0            \n",
      "4            Mazda        Engine       A86          1            \n",
      "4            Mazda        Engine       C18          0            \n",
      "5            Mazda        Wheel        W4           1            \n",
      "6            Mazda        Wheel        W3           0            \n",
      "6            Mazda        Wheel        W2           0            \n",
      "6            Mazda        Wheel        W1           1            \n",
      "6            Mazda        Wheel        W4           0            \n"
     ]
    }
   ],
   "source": [
    "cursor.execute(get_car_part_query)\n",
    "print_res_of_query(cursor)"
   ]
  },
  {
   "cell_type": "markdown",
   "metadata": {},
   "source": [
    "* #### Znajdź dostępne modele i ich liczbę"
   ]
  },
  {
   "cell_type": "code",
   "execution_count": 39,
   "metadata": {},
   "outputs": [],
   "source": [
    "get_model_query = '''\n",
    "    SELECT {0}Model, COUNT(*) AS Count FROM {0}\n",
    "    GROUP BY {0}Model\n",
    "    '''\n",
    "\n",
    "table_name_list = ['Car', 'Wheel', 'Engine']"
   ]
  },
  {
   "cell_type": "code",
   "execution_count": 40,
   "metadata": {},
   "outputs": [
    {
     "name": "stdout",
     "output_type": "stream",
     "text": [
      "Car    : [('Audi', 4), ('BMW', 3), ('Fiat', 4), ('Mazda', 7), ('Renault', 2)]\n",
      "Wheel  : [('W1', 11), ('W2', 15), ('W3', 14), ('W4', 17), ('W5', 13)]\n",
      "Engine : [('A123', 4), ('A157', 4), ('A86', 7), ('B458', 6), ('C18', 9)]\n"
     ]
    }
   ],
   "source": [
    "result_iter = cursor.execute('; '.join(map(get_model_query.format, table_name_list)), multi=True)\n",
    "frame_str = '{:%s}: {}' % (max(map(len, table_name_list)) + 1)\n",
    "for table_name, result in zip(table_name_list, result_iter):\n",
    "    print(frame_str.format(table_name, result.fetchall()))"
   ]
  },
  {
   "cell_type": "markdown",
   "metadata": {},
   "source": [
    "### Usunięcie wierszy\n",
    "\n",
    "```mysql\n",
    "DELETE FROM table_name\n",
    "WHERE condition;\n",
    "```"
   ]
  },
  {
   "cell_type": "markdown",
   "metadata": {},
   "source": [
    "### Usunięcie tabeli\n",
    "\n",
    "```mysql\n",
    "DROP TABLE table_name;\n",
    "```"
   ]
  },
  {
   "cell_type": "markdown",
   "metadata": {},
   "source": [
    "### Usunięcie bazy danych\n",
    "\n",
    "```mysql\n",
    "DROP DATABASE database_name;\n",
    "```"
   ]
  },
  {
   "cell_type": "code",
   "execution_count": 41,
   "metadata": {},
   "outputs": [],
   "source": [
    "# try:\n",
    "#     cursor.execute('DROP DATABASE {}'.format(db_name))\n",
    "# except mysql.connector.Error as err:\n",
    "#     print(err)"
   ]
  },
  {
   "cell_type": "markdown",
   "metadata": {},
   "source": [
    "### Zakończenie połączenia"
   ]
  },
  {
   "cell_type": "code",
   "execution_count": 42,
   "metadata": {},
   "outputs": [],
   "source": [
    "cursor.close()\n",
    "cnx.close()"
   ]
  }
 ],
 "metadata": {
  "kernelspec": {
   "display_name": "Python [default]",
   "language": "python",
   "name": "python3"
  },
  "language_info": {
   "codemirror_mode": {
    "name": "ipython",
    "version": 3
   },
   "file_extension": ".py",
   "mimetype": "text/x-python",
   "name": "python",
   "nbconvert_exporter": "python",
   "pygments_lexer": "ipython3",
   "version": "3.6.4"
  }
 },
 "nbformat": 4,
 "nbformat_minor": 2
}
