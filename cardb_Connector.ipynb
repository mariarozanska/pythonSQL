{
 "cells": [
  {
   "cell_type": "markdown",
   "metadata": {},
   "source": [
    "[Dokumentacja mysql.connector](https://dev.mysql.com/doc/connector-python/en/connector-python-example-connecting.html)"
   ]
  },
  {
   "cell_type": "markdown",
   "metadata": {},
   "source": [
    "Funkcja connect() tworzy połączenie z MySQL server i zwraca obiekt MySQLConnection:\n",
    "```python\n",
    "cnx = mysql.connector.connect(**config_dict)\n",
    "```\n",
    "\n",
    "Metoda połączenia cursor() zwraca obiekt MySQLCursor, który umożliwia manipulowanie bazą:\n",
    "```python\n",
    "cursor = cnx.cursor()\n",
    "\n",
    "cursor.execute('sql_statement'[, data])\n",
    "cursor.executemany('sql_statement', seq_of_data)\n",
    "# w wyniku zapytania cursor może zostać użyty jako iterator lub można pobrać wyszukane wiersze\n",
    "row_list = cursor.fetchall()\n",
    "\n",
    "iterator = cursor.execute('many_sql_statement', multi=True)\n",
    "```\n",
    "\n",
    "Po dodaniu (INSERT INTO), zaktualizowaniu (UPDATE) lub usunięciu (DELETE FROM) wierszy, zmiany należy jeszcze skomitować:\n",
    "```\n",
    "cnx.commit()\n",
    "```\n",
    "\n",
    "Połączenie należy zakończyć:\n",
    "```\n",
    "cursor.close()\n",
    "cnx.close()\n",
    "```"
   ]
  },
  {
   "cell_type": "code",
   "execution_count": 1,
   "metadata": {},
   "outputs": [],
   "source": [
    "import mysql.connector\n",
    "import random"
   ]
  },
  {
   "cell_type": "markdown",
   "metadata": {},
   "source": [
    "### Nawiązanie połączenia z bazą "
   ]
  },
  {
   "cell_type": "code",
   "execution_count": 2,
   "metadata": {},
   "outputs": [],
   "source": [
    "db_name = 'cardb'"
   ]
  },
  {
   "cell_type": "code",
   "execution_count": 3,
   "metadata": {},
   "outputs": [],
   "source": [
    "# słownik złożony z argumentów kluczowych funkcji connect()\n",
    "config = {\n",
    "  'user': 'root',\n",
    "  'password': 'admin',\n",
    "  'host': '127.0.0.1',\n",
    "#   'database': db_name,\n",
    "}"
   ]
  },
  {
   "cell_type": "code",
   "execution_count": 4,
   "metadata": {},
   "outputs": [],
   "source": [
    "# połączenie się z serwerem (lub konkretną bazą na tym serwerze, jeżeli przekazany jest też argument database)\n",
    "cnx = mysql.connector.connect(**config)\n",
    "cursor = cnx.cursor()"
   ]
  },
  {
   "cell_type": "code",
   "execution_count": 5,
   "metadata": {},
   "outputs": [],
   "source": [
    "# połączenie się z konkretną bazą\n",
    "# jeżeli baza nie istnieje, zostaje utworzona\n",
    "try:\n",
    "    cnx.database = db_name\n",
    "except mysql.connector.Error as err:\n",
    "  if err.errno == mysql.connector.errorcode.ER_ACCESS_DENIED_ERROR:\n",
    "    print('Something is wrong with your user name or password')\n",
    "  elif err.errno == mysql.connector.errorcode.ER_BAD_DB_ERROR:\n",
    "#     print('Database {} does not exist'.format(db_name))\n",
    "    cursor.execute('CREATE DATABASE {}'.format(db_name))\n",
    "    cnx.database = db_name\n",
    "  else:\n",
    "    print(err)"
   ]
  },
  {
   "cell_type": "markdown",
   "metadata": {},
   "source": [
    "### Utworzenie tabel"
   ]
  },
  {
   "cell_type": "code",
   "execution_count": 6,
   "metadata": {},
   "outputs": [],
   "source": [
    "table_dict = {}"
   ]
  },
  {
   "cell_type": "code",
   "execution_count": 7,
   "metadata": {},
   "outputs": [],
   "source": [
    "table_dict['Car'] = '''\n",
    "    CREATE TABLE `Car` (\n",
    "    `Id` INT NOT NULL,\n",
    "    `Model` VARCHAR(45) NOT NULL,\n",
    "    PRIMARY KEY (`Id`))\n",
    "    '''\n",
    "\n",
    "table_dict['Part'] = '''\n",
    "    CREATE TABLE `Part` (\n",
    "    `Id` INT NOT NULL,\n",
    "    `IsFunctional` TINYINT(1) NOT NULL,\n",
    "    `CarId` INT,\n",
    "    PRIMARY KEY (`Id`),\n",
    "    FOREIGN KEY (`CarId`) REFERENCES `Car`(`Id`))\n",
    "    '''\n",
    "\n",
    "table_dict['Wheel'] = '''\n",
    "    CREATE TABLE `Wheel` (\n",
    "    `PartId` INT NOT NULL,\n",
    "    `Model` VARCHAR(45) NOT NULL,\n",
    "    PRIMARY KEY (`PartId`),\n",
    "    FOREIGN KEY (`PartId`) REFERENCES `Part`(`Id`))\n",
    "    '''\n",
    "\n",
    "table_dict['Engine'] = '''\n",
    "    CREATE TABLE `Engine` (\n",
    "    `PartId` INT NOT NULL,\n",
    "    `Model` VARCHAR(45) NOT NULL,\n",
    "    PRIMARY KEY (`PartId`),\n",
    "    FOREIGN KEY (`PartId`) REFERENCES `Part`(`Id`))\n",
    "    '''"
   ]
  },
  {
   "cell_type": "code",
   "execution_count": 8,
   "metadata": {},
   "outputs": [],
   "source": [
    "# utworzenie tabel\n",
    "# jeżeli już istnieją, pojawi się komunikat\n",
    "for table_name, create_table_stmt in table_dict.items():\n",
    "    try:\n",
    "        cursor.execute(create_table_stmt)\n",
    "    except mysql.connector.Error as err:\n",
    "      if err.errno == mysql.connector.errorcode.ER_TABLE_EXISTS_ERROR:\n",
    "        print('Table {} already exists'.format(table_name))\n",
    "      else:\n",
    "        print(err)"
   ]
  },
  {
   "cell_type": "markdown",
   "metadata": {},
   "source": [
    "### Dodanie wierszy"
   ]
  },
  {
   "cell_type": "code",
   "execution_count": 9,
   "metadata": {},
   "outputs": [],
   "source": [
    "add_car_stmt = '''\n",
    "    INSERT INTO Car (Id, Model)\n",
    "    VALUES (%s, %s)\n",
    "    '''\n",
    "\n",
    "add_part_stmt = '''\n",
    "    INSERT INTO Part (Id, IsFunctional, CarId)\n",
    "    VALUES (%s, %s, %s)\n",
    "    '''\n",
    "\n",
    "add_wheel_stmt = '''\n",
    "    INSERT INTO Wheel (PartId, Model)\n",
    "    VALUES (%s, %s)\n",
    "    '''\n",
    "\n",
    "add_engine_stmt = '''\n",
    "    INSERT INTO Engine (PartId, Model)\n",
    "    VALUES (%s, %s)\n",
    "    '''"
   ]
  },
  {
   "cell_type": "code",
   "execution_count": 10,
   "metadata": {},
   "outputs": [],
   "source": [
    "cursor.execute('SELECT Id FROM Car')\n",
    "try:\n",
    "    last_car_id = cursor.fetchall()[-1][0]\n",
    "except IndexError:\n",
    "    last_car_id = 0\n",
    "\n",
    "car_total = 20\n",
    "car_id_list = list(range(last_car_id + 1, last_car_id + 1 + car_total))\n",
    "car_model_list = ['Renault', 'Audi', 'BMW', 'Mazda', 'Fiat']\n",
    "car_list = [(car_id, random.choice(car_model_list)) for car_id in car_id_list]\n",
    "\n",
    "cursor.execute('SELECT Id FROM Part')\n",
    "try:\n",
    "    last_part_id = cursor.fetchall()[-1][0]\n",
    "except IndexError:\n",
    "    last_part_id = 0\n",
    "\n",
    "part_total = 100\n",
    "part_id_list = list(range(last_part_id + 1, last_part_id + 1 + part_total))\n",
    "part_list = [(part_id, random.randint(0, 1), random.choice(car_id_list)) for part_id in part_id_list]\n",
    "\n",
    "wheel_total = int(part_total * 0.7)\n",
    "wheel_model_list = ['W1', 'W2', 'W3', 'W4', 'W5']\n",
    "wheel_part_id_list = random.sample(part_id_list, wheel_total)\n",
    "wheel_list = [(part_id, random.choice(wheel_model_list)) for part_id in wheel_part_id_list]\n",
    "\n",
    "engine_total = part_total - wheel_total\n",
    "engine_model_list = ['A157', 'B458', 'A86', 'A123', 'C18']\n",
    "engine_part_id_list = list(set(part_id_list) - set(wheel_part_id_list))\n",
    "engine_list = [(part_id, random.choice(engine_model_list)) for part_id in engine_part_id_list]"
   ]
  },
  {
   "cell_type": "code",
   "execution_count": 11,
   "metadata": {},
   "outputs": [],
   "source": [
    "cursor.executemany(add_car_stmt, car_list)"
   ]
  },
  {
   "cell_type": "code",
   "execution_count": 12,
   "metadata": {},
   "outputs": [],
   "source": [
    "cursor.executemany(add_part_stmt, part_list)"
   ]
  },
  {
   "cell_type": "code",
   "execution_count": 13,
   "metadata": {},
   "outputs": [],
   "source": [
    "cursor.executemany(add_wheel_stmt, wheel_list)"
   ]
  },
  {
   "cell_type": "code",
   "execution_count": 14,
   "metadata": {},
   "outputs": [],
   "source": [
    "cursor.executemany(add_engine_stmt, engine_list)"
   ]
  },
  {
   "cell_type": "code",
   "execution_count": 15,
   "metadata": {},
   "outputs": [],
   "source": [
    "cnx.commit()"
   ]
  },
  {
   "cell_type": "markdown",
   "metadata": {},
   "source": [
    "### Zaktualizowanie wierszy"
   ]
  },
  {
   "cell_type": "code",
   "execution_count": 16,
   "metadata": {},
   "outputs": [],
   "source": [
    "set_free_part_stmt = '''\n",
    "    UPDATE Part\n",
    "    SET CarId = NULL\n",
    "    WHERE Id IN {}\n",
    "    '''\n",
    "\n",
    "set_broken_part_stmt = '''\n",
    "    UPDATE Part\n",
    "    SET IsFunctional = 0\n",
    "    WHERE Id = %s\n",
    "    '''\n",
    "\n",
    "set_fixed_part_stmt = '''\n",
    "    UPDATE Part\n",
    "    SET IsFunctional = 1\n",
    "    WHERE Id = %s\n",
    "    '''"
   ]
  },
  {
   "cell_type": "code",
   "execution_count": 17,
   "metadata": {},
   "outputs": [],
   "source": [
    "free_part_total = 15\n",
    "free_part_id_list = random.sample(part_id_list, free_part_total)\n",
    "set_free_part_full_stmt = set_free_part_stmt.format(str(('%s',) * free_part_total))"
   ]
  },
  {
   "cell_type": "code",
   "execution_count": 18,
   "metadata": {},
   "outputs": [],
   "source": [
    "cursor.execute(set_free_part_full_stmt, free_part_id_list)"
   ]
  },
  {
   "cell_type": "code",
   "execution_count": 19,
   "metadata": {},
   "outputs": [],
   "source": [
    "fixed_part_id_list = [(part_id,) for part_id in random.sample(part_id_list, 10)]"
   ]
  },
  {
   "cell_type": "code",
   "execution_count": 20,
   "metadata": {},
   "outputs": [],
   "source": [
    "cursor.executemany(set_fixed_part_stmt, fixed_part_id_list)"
   ]
  },
  {
   "cell_type": "code",
   "execution_count": 21,
   "metadata": {},
   "outputs": [],
   "source": [
    "cnx.commit()"
   ]
  },
  {
   "cell_type": "markdown",
   "metadata": {},
   "source": [
    "### Zapytania"
   ]
  },
  {
   "cell_type": "code",
   "execution_count": 22,
   "metadata": {},
   "outputs": [],
   "source": [
    "def print_res_of_query(cursor):\n",
    "    frame_str = '{:<10}' * len(cursor.column_names)\n",
    "    print(frame_str.format(*cursor.column_names))\n",
    "    for row in cursor:\n",
    "        print(frame_str.format(*row))    "
   ]
  },
  {
   "cell_type": "code",
   "execution_count": 23,
   "metadata": {},
   "outputs": [],
   "source": [
    "# znajdź sprawne samochody\n",
    "# samochód jest sprawny, jeżeli wszystkie jego części są sprawne\n",
    "get_functional_car_query = '''\n",
    "    SELECT Car.Id, Model\n",
    "    FROM Car INNER JOIN Part ON Car.Id = Part.CarId\n",
    "    GROUP BY Car.Id\n",
    "    HAVING COUNT(IsFunctional) = SUM(IsFunctional)\n",
    "    '''"
   ]
  },
  {
   "cell_type": "code",
   "execution_count": 24,
   "metadata": {},
   "outputs": [
    {
     "name": "stdout",
     "output_type": "stream",
     "text": [
      "Id        Model     \n",
      "3         Fiat      \n",
      "19        Fiat      \n"
     ]
    }
   ],
   "source": [
    "cursor.execute(get_functional_car_query)\n",
    "print_res_of_query(cursor)"
   ]
  },
  {
   "cell_type": "code",
   "execution_count": 25,
   "metadata": {},
   "outputs": [],
   "source": [
    "# znajdź wszystkie luźne części\n",
    "# luźne części to te, które nie są związane z żadnym samochodem\n",
    "get_free_part_query = '''\n",
    "    SELECT Part.Id AS Id, 'Wheel' AS Type, Model, IsFunctional\n",
    "    FROM Part INNER JOIN Wheel ON Part.Id = Wheel.PartId\n",
    "    WHERE CarId IS NULL\n",
    "    UNION\n",
    "    SELECT Part.Id AS Id, 'Engine' AS Type, Model, IsFunctional\n",
    "    FROM Part INNER JOIN Engine ON Part.Id = Engine.PartId\n",
    "    WHERE CarId IS NULL\n",
    "    ORDER BY Id\n",
    "    '''"
   ]
  },
  {
   "cell_type": "code",
   "execution_count": 26,
   "metadata": {},
   "outputs": [
    {
     "name": "stdout",
     "output_type": "stream",
     "text": [
      "Id        Type      Model     IsFunctional\n",
      "16        Wheel     W5        0         \n",
      "17        Wheel     W4        0         \n",
      "44        Wheel     W5        0         \n",
      "55        Engine    A123      1         \n",
      "60        Wheel     W4        1         \n",
      "63        Wheel     W4        1         \n",
      "64        Wheel     W5        1         \n",
      "67        Engine    C18       1         \n",
      "68        Wheel     W2        0         \n",
      "75        Wheel     W2        1         \n",
      "83        Wheel     W3        0         \n",
      "86        Engine    A123      1         \n",
      "88        Wheel     W1        1         \n",
      "90        Wheel     W5        0         \n",
      "97        Wheel     W1        0         \n"
     ]
    }
   ],
   "source": [
    "cursor.execute(get_free_part_query)\n",
    "print_res_of_query(cursor)"
   ]
  },
  {
   "cell_type": "code",
   "execution_count": 27,
   "metadata": {},
   "outputs": [],
   "source": [
    "# znajdź wszystkie części związane z samochodami\n",
    "get_car_part_query = '''\n",
    "    SELECT Car.Id AS CarId, Car.Model AS Car, Type AS Part, FullPart.Model AS PartModel, IsFunctional\n",
    "    FROM Car LEFT JOIN (\n",
    "        SELECT *, 'Wheel' AS Type\n",
    "        FROM Part INNER JOIN Wheel ON Part.Id = Wheel.PartId\n",
    "        UNION\n",
    "        SELECT *, 'Engine' AS Type\n",
    "        FROM Part INNER JOIN Engine ON Part.Id = Engine.PartId) AS FullPart \n",
    "    ON FullPart.CarId = Car.Id\n",
    "    LIMIT 20\n",
    "    '''"
   ]
  },
  {
   "cell_type": "code",
   "execution_count": 28,
   "metadata": {},
   "outputs": [
    {
     "name": "stdout",
     "output_type": "stream",
     "text": [
      "CarId     Car       Part      PartModel IsFunctional\n",
      "1         Renault   Engine    B458      1         \n",
      "1         Renault   Wheel     W2        0         \n",
      "1         Renault   Wheel     W1        1         \n",
      "1         Renault   Engine    A123      0         \n",
      "1         Renault   Engine    A157      1         \n",
      "1         Renault   Wheel     W1        1         \n",
      "1         Renault   Engine    A123      0         \n",
      "2         BMW       Engine    B458      0         \n",
      "2         BMW       Wheel     W2        1         \n",
      "2         BMW       Engine    A123      0         \n",
      "2         BMW       Wheel     W4        1         \n",
      "2         BMW       Wheel     W2        0         \n",
      "2         BMW       Wheel     W4        0         \n",
      "2         BMW       Wheel     W1        0         \n",
      "2         BMW       Wheel     W2        0         \n",
      "2         BMW       Wheel     W4        1         \n",
      "3         Fiat      Wheel     W5        1         \n",
      "3         Fiat      Engine    A123      1         \n",
      "3         Fiat      Wheel     W1        1         \n",
      "3         Fiat      Wheel     W5        1         \n"
     ]
    }
   ],
   "source": [
    "cursor.execute(get_car_part_query)\n",
    "print_res_of_query(cursor)"
   ]
  },
  {
   "cell_type": "code",
   "execution_count": 29,
   "metadata": {},
   "outputs": [],
   "source": [
    "# znajdź dostępne modele i ich liczbę\n",
    "get_model_query = '''\n",
    "    SELECT Model, COUNT(*) AS Count FROM {}\n",
    "    GROUP BY Model\n",
    "    '''\n",
    "\n",
    "table_name_list = ['Car', 'Wheel', 'Engine']"
   ]
  },
  {
   "cell_type": "code",
   "execution_count": 30,
   "metadata": {},
   "outputs": [
    {
     "name": "stdout",
     "output_type": "stream",
     "text": [
      "Car    : [('Audi', 5), ('BMW', 3), ('Fiat', 4), ('Mazda', 4), ('Renault', 4)]\n",
      "Wheel  : [('W1', 20), ('W2', 16), ('W3', 5), ('W4', 13), ('W5', 16)]\n",
      "Engine : [('A123', 11), ('A157', 5), ('A86', 5), ('B458', 4), ('C18', 5)]\n"
     ]
    }
   ],
   "source": [
    "result_iter = cursor.execute('; '.join(map(get_model_query.format, table_name_list)), multi=True)\n",
    "frame_str = '{:%s}: {}' % (max(map(len, table_name_list)) + 1)\n",
    "for table_name, result in zip(table_name_list, result_iter):\n",
    "    print(frame_str.format(table_name, result.fetchall()))"
   ]
  },
  {
   "cell_type": "markdown",
   "metadata": {},
   "source": [
    "### Zakończenie połączenia"
   ]
  },
  {
   "cell_type": "code",
   "execution_count": 31,
   "metadata": {},
   "outputs": [],
   "source": [
    "cursor.close()\n",
    "cnx.close()"
   ]
  },
  {
   "cell_type": "code",
   "execution_count": null,
   "metadata": {},
   "outputs": [],
   "source": []
  }
 ],
 "metadata": {
  "kernelspec": {
   "display_name": "Python [default]",
   "language": "python",
   "name": "python3"
  },
  "language_info": {
   "codemirror_mode": {
    "name": "ipython",
    "version": 3
   },
   "file_extension": ".py",
   "mimetype": "text/x-python",
   "name": "python",
   "nbconvert_exporter": "python",
   "pygments_lexer": "ipython3",
   "version": "3.6.4"
  }
 },
 "nbformat": 4,
 "nbformat_minor": 2
}
